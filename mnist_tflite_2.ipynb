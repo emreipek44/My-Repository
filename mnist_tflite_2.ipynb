{
  "nbformat": 4,
  "nbformat_minor": 0,
  "metadata": {
    "colab": {
      "name": "mnist_tflite_2.ipynb",
      "version": "0.3.2",
      "provenance": [],
      "collapsed_sections": []
    },
    "kernelspec": {
      "name": "python3",
      "display_name": "Python 3"
    },
    "accelerator": "GPU"
  },
  "cells": [
    {
      "cell_type": "code",
      "metadata": {
        "id": "lRRiBphVR-fw",
        "colab_type": "code",
        "outputId": "18184d3c-f102-4d09-cc8f-dd965273a38d",
        "colab": {
          "base_uri": "https://localhost:8080/",
          "height": 528
        }
      },
      "source": [
        "\n",
        "# Install TensorFlow 2.0 alpha\n",
        "!pip install tensorflow-gpu==2.0.0-alpha0"
      ],
      "execution_count": 0,
      "outputs": [
        {
          "output_type": "stream",
          "text": [
            "Collecting tensorflow-gpu==2.0.0-alpha0\n",
            "\u001b[?25l  Downloading https://files.pythonhosted.org/packages/1a/66/32cffad095253219d53f6b6c2a436637bbe45ac4e7be0244557210dc3918/tensorflow_gpu-2.0.0a0-cp36-cp36m-manylinux1_x86_64.whl (332.1MB)\n",
            "\u001b[K     |████████████████████████████████| 332.1MB 95kB/s \n",
            "\u001b[?25hRequirement already satisfied: grpcio>=1.8.6 in /usr/local/lib/python3.6/dist-packages (from tensorflow-gpu==2.0.0-alpha0) (1.15.0)\n",
            "Collecting tf-estimator-nightly<1.14.0.dev2019030116,>=1.14.0.dev2019030115 (from tensorflow-gpu==2.0.0-alpha0)\n",
            "\u001b[?25l  Downloading https://files.pythonhosted.org/packages/13/82/f16063b4eed210dc2ab057930ac1da4fbe1e91b7b051a6c8370b401e6ae7/tf_estimator_nightly-1.14.0.dev2019030115-py2.py3-none-any.whl (411kB)\n",
            "\u001b[K     |████████████████████████████████| 419kB 39.7MB/s \n",
            "\u001b[?25hRequirement already satisfied: numpy<2.0,>=1.14.5 in /usr/local/lib/python3.6/dist-packages (from tensorflow-gpu==2.0.0-alpha0) (1.16.4)\n",
            "Requirement already satisfied: gast>=0.2.0 in /usr/local/lib/python3.6/dist-packages (from tensorflow-gpu==2.0.0-alpha0) (0.2.2)\n",
            "Requirement already satisfied: wheel>=0.26 in /usr/local/lib/python3.6/dist-packages (from tensorflow-gpu==2.0.0-alpha0) (0.33.4)\n",
            "Requirement already satisfied: termcolor>=1.1.0 in /usr/local/lib/python3.6/dist-packages (from tensorflow-gpu==2.0.0-alpha0) (1.1.0)\n",
            "Collecting tb-nightly<1.14.0a20190302,>=1.14.0a20190301 (from tensorflow-gpu==2.0.0-alpha0)\n",
            "\u001b[?25l  Downloading https://files.pythonhosted.org/packages/a9/51/aa1d756644bf4624c03844115e4ac4058eff77acd786b26315f051a4b195/tb_nightly-1.14.0a20190301-py3-none-any.whl (3.0MB)\n",
            "\u001b[K     |████████████████████████████████| 3.0MB 35.8MB/s \n",
            "\u001b[?25hRequirement already satisfied: keras-preprocessing>=1.0.5 in /usr/local/lib/python3.6/dist-packages (from tensorflow-gpu==2.0.0-alpha0) (1.1.0)\n",
            "Requirement already satisfied: keras-applications>=1.0.6 in /usr/local/lib/python3.6/dist-packages (from tensorflow-gpu==2.0.0-alpha0) (1.0.8)\n",
            "Requirement already satisfied: six>=1.10.0 in /usr/local/lib/python3.6/dist-packages (from tensorflow-gpu==2.0.0-alpha0) (1.12.0)\n",
            "Requirement already satisfied: protobuf>=3.6.1 in /usr/local/lib/python3.6/dist-packages (from tensorflow-gpu==2.0.0-alpha0) (3.7.1)\n",
            "Requirement already satisfied: absl-py>=0.7.0 in /usr/local/lib/python3.6/dist-packages (from tensorflow-gpu==2.0.0-alpha0) (0.7.1)\n",
            "Requirement already satisfied: google-pasta>=0.1.2 in /usr/local/lib/python3.6/dist-packages (from tensorflow-gpu==2.0.0-alpha0) (0.1.7)\n",
            "Requirement already satisfied: astor>=0.6.0 in /usr/local/lib/python3.6/dist-packages (from tensorflow-gpu==2.0.0-alpha0) (0.8.0)\n",
            "Requirement already satisfied: markdown>=2.6.8 in /usr/local/lib/python3.6/dist-packages (from tb-nightly<1.14.0a20190302,>=1.14.0a20190301->tensorflow-gpu==2.0.0-alpha0) (3.1.1)\n",
            "Requirement already satisfied: werkzeug>=0.11.15 in /usr/local/lib/python3.6/dist-packages (from tb-nightly<1.14.0a20190302,>=1.14.0a20190301->tensorflow-gpu==2.0.0-alpha0) (0.15.5)\n",
            "Requirement already satisfied: h5py in /usr/local/lib/python3.6/dist-packages (from keras-applications>=1.0.6->tensorflow-gpu==2.0.0-alpha0) (2.8.0)\n",
            "Requirement already satisfied: setuptools in /usr/local/lib/python3.6/dist-packages (from protobuf>=3.6.1->tensorflow-gpu==2.0.0-alpha0) (41.0.1)\n",
            "Installing collected packages: tf-estimator-nightly, tb-nightly, tensorflow-gpu\n",
            "Successfully installed tb-nightly-1.14.0a20190301 tensorflow-gpu-2.0.0a0 tf-estimator-nightly-1.14.0.dev2019030115\n"
          ],
          "name": "stdout"
        }
      ]
    },
    {
      "cell_type": "code",
      "metadata": {
        "id": "9JVzjCF4SIhY",
        "colab_type": "code",
        "outputId": "17672998-7094-46f7-a4ca-e44dd452173a",
        "colab": {
          "base_uri": "https://localhost:8080/",
          "height": 72
        }
      },
      "source": [
        "# TensorFlow and tf.keras\n",
        "import tensorflow as tf\n",
        "from tensorflow import keras\n",
        "\n",
        "# Helper libraries\n",
        "import numpy as np\n",
        "import matplotlib.pyplot as plt\n",
        "\n",
        "# Get some knowledge about current environment \n",
        "print(\"TensorFlow version {}\".format(tf.__version__))\n",
        "print(\"Eager mode: \", tf.executing_eagerly())\n",
        "print(\"Is GPU available: \", tf.test.is_gpu_available())"
      ],
      "execution_count": 0,
      "outputs": [
        {
          "output_type": "stream",
          "text": [
            "TensorFlow version 2.0.0-alpha0\n",
            "Eager mode:  True\n",
            "Is GPU available:  True\n"
          ],
          "name": "stdout"
        }
      ]
    },
    {
      "cell_type": "code",
      "metadata": {
        "id": "K-nm5dwvSUA2",
        "colab_type": "code",
        "outputId": "69980d4e-52bb-4357-843b-60d8cf410c0d",
        "colab": {
          "base_uri": "https://localhost:8080/",
          "height": 54
        }
      },
      "source": [
        "mnist = tf.keras.datasets.mnist\n",
        "(images_train, labels_train),(images_test, labels_test) = mnist.load_data()\n",
        "class_names = [\"zero\",\"one\",\"two\",\"three\",\"four\",\"five\",\"six\",\"seven\",\"eight\",\"nine\"]"
      ],
      "execution_count": 0,
      "outputs": [
        {
          "output_type": "stream",
          "text": [
            "Downloading data from https://storage.googleapis.com/tensorflow/tf-keras-datasets/mnist.npz\n",
            "11493376/11490434 [==============================] - 0s 0us/step\n"
          ],
          "name": "stdout"
        }
      ]
    },
    {
      "cell_type": "code",
      "metadata": {
        "id": "Sf9R0yBnS_iu",
        "colab_type": "code",
        "outputId": "6eaf69a9-3968-443b-ad1d-2a5dc3bf22fb",
        "colab": {
          "base_uri": "https://localhost:8080/",
          "height": 54
        }
      },
      "source": [
        "print(\"Data type:\", type(images_train))\n",
        "print(\"Dataset shape:\", (images_train.shape))"
      ],
      "execution_count": 0,
      "outputs": [
        {
          "output_type": "stream",
          "text": [
            "Data type: <class 'numpy.ndarray'>\n",
            "Dataset shape: (60000, 28, 28)\n"
          ],
          "name": "stdout"
        }
      ]
    },
    {
      "cell_type": "code",
      "metadata": {
        "id": "Y4ZMbUJETIYe",
        "colab_type": "code",
        "outputId": "8c7b1fd2-2055-48a1-c8c2-3d93a211fdd8",
        "colab": {
          "base_uri": "https://localhost:8080/",
          "height": 54
        }
      },
      "source": [
        "print(\"Labels:\", len(labels_train))\n",
        "print(\"Possible values:\", np.unique(labels_train))"
      ],
      "execution_count": 0,
      "outputs": [
        {
          "output_type": "stream",
          "text": [
            "Labels: 60000\n",
            "Possible values: [0 1 2 3 4 5 6 7 8 9]\n"
          ],
          "name": "stdout"
        }
      ]
    },
    {
      "cell_type": "code",
      "metadata": {
        "id": "EOW94TdfTLSg",
        "colab_type": "code",
        "outputId": "03b1a9ec-ad7c-4aff-8272-3d9bed67960e",
        "colab": {
          "base_uri": "https://localhost:8080/",
          "height": 284
        }
      },
      "source": [
        "plt.figure()\n",
        "plt.imshow(images_train[5500])\n",
        "plt.colorbar()\n",
        "plt.grid(False)\n",
        "plt.xlabel(\"Classification label: {}\".format(labels_train[5500]))\n",
        "plt.show()"
      ],
      "execution_count": 0,
      "outputs": [
        {
          "output_type": "display_data",
          "data": {
            "image/png": "[encoded data removed]",
            "text/plain": [
              "<Figure size 432x288 with 2 Axes>"
            ]
          },
          "metadata": {
            "tags": []
          }
        }
      ]
    },
    {
      "cell_type": "code",
      "metadata": {
        "id": "EJMnoNZBTRyc",
        "colab_type": "code",
        "colab": {}
      },
      "source": [
        "images_train = images_train / 255.0\n",
        "images_test = images_test / 255.0"
      ],
      "execution_count": 0,
      "outputs": []
    },
    {
      "cell_type": "code",
      "metadata": {
        "id": "FIVvltkNTkjB",
        "colab_type": "code",
        "outputId": "3129bf08-21a9-4858-a5e5-67004efbcb3c",
        "colab": {
          "base_uri": "https://localhost:8080/",
          "height": 35
        }
      },
      "source": [
        "images_train[5500].shape"
      ],
      "execution_count": 0,
      "outputs": [
        {
          "output_type": "execute_result",
          "data": {
            "text/plain": [
              "(28, 28)"
            ]
          },
          "metadata": {
            "tags": []
          },
          "execution_count": 10
        }
      ]
    },
    {
      "cell_type": "code",
      "metadata": {
        "id": "RRJR0G7RToaj",
        "colab_type": "code",
        "outputId": "defd56b8-9ed6-4543-81d1-2ec064b90545",
        "colab": {
          "base_uri": "https://localhost:8080/",
          "height": 35
        }
      },
      "source": [
        "images_train[5500][14,14]"
      ],
      "execution_count": 0,
      "outputs": [
        {
          "output_type": "execute_result",
          "data": {
            "text/plain": [
              "0.9921568627450981"
            ]
          },
          "metadata": {
            "tags": []
          },
          "execution_count": 12
        }
      ]
    },
    {
      "cell_type": "code",
      "metadata": {
        "id": "b11m5BK2TsUp",
        "colab_type": "code",
        "outputId": "1c01f0e0-1730-4d62-fb4e-6975d39957a6",
        "colab": {
          "base_uri": "https://localhost:8080/",
          "height": 284
        }
      },
      "source": [
        "plt.figure()\n",
        "plt.imshow(images_train[0])\n",
        "plt.colorbar()\n",
        "plt.grid(False)\n",
        "plt.xlabel(\"Classification label: {}\".format(labels_train[0]))\n",
        "plt.show()"
      ],
      "execution_count": 0,
      "outputs": [
        {
          "output_type": "display_data",
          "data": {
            "image/png": "[encoded data removed]",
            "text/plain": [
              "<Figure size 432x288 with 2 Axes>"
            ]
          },
          "metadata": {
            "tags": []
          }
        }
      ]
    },
    {
      "cell_type": "code",
      "metadata": {
        "id": "5krT1f6-UDHZ",
        "colab_type": "code",
        "outputId": "1c847d94-e40d-4f2f-8d0f-5c3acb42b22b",
        "colab": {
          "base_uri": "https://localhost:8080/",
          "height": 146
        }
      },
      "source": [
        "plt.figure(figsize=(10, 10))\n",
        "\n",
        "plt.subplot(3, 6, 1)\n",
        "plt.xticks([])\n",
        "plt.yticks([])\n",
        "plt.xlabel(\"Inverse\")\n",
        "plt.imshow(images_train[0], cmap=plt.cm.binary)\n",
        "\n",
        "plt.subplot(3, 6, 2)\n",
        "plt.xticks([])\n",
        "plt.yticks([])\n",
        "plt.xlabel(\"Original\")\n",
        "plt.imshow(images_train[0], cmap=plt.cm.gray)"
      ],
      "execution_count": 0,
      "outputs": [
        {
          "output_type": "execute_result",
          "data": {
            "text/plain": [
              "<matplotlib.image.AxesImage at 0x7f68cdd9f860>"
            ]
          },
          "metadata": {
            "tags": []
          },
          "execution_count": 16
        },
        {
          "output_type": "display_data",
          "data": {
            "image/png": "[encoded data removed]",
            "text/plain": [
              "<Figure size 720x720 with 2 Axes>"
            ]
          },
          "metadata": {
            "tags": []
          }
        }
      ]
    },
    {
      "cell_type": "code",
      "metadata": {
        "id": "TRsAr5OyUxHO",
        "colab_type": "code",
        "colab": {}
      },
      "source": [
        "model = keras.models.Sequential([\n",
        "  keras.layers.Flatten(input_shape=(28,28)),\n",
        "  keras.layers.Dense(512, activation=tf.nn.relu),\n",
        "  keras.layers.Dropout(0.2),\n",
        "  keras.layers.Dense(512, activation=tf.nn.relu),\n",
        "  keras.layers.Dropout(0.2),\n",
        "  keras.layers.Dense(10, activation=tf.nn.softmax)\n",
        "])\n",
        "\n",
        "model.compile(optimizer='adam',\n",
        "              loss='sparse_categorical_crossentropy',\n",
        "              metrics=['accuracy'])"
      ],
      "execution_count": 0,
      "outputs": []
    },
    {
      "cell_type": "code",
      "metadata": {
        "id": "h39HyiCRVIZA",
        "colab_type": "code",
        "outputId": "a8ebb724-6a27-41e9-f7bf-7f71e9f9f196",
        "colab": {
          "base_uri": "https://localhost:8080/",
          "height": 617
        }
      },
      "source": [
        "model.fit(images_train, labels_train, epochs=16)"
      ],
      "execution_count": 0,
      "outputs": [
        {
          "output_type": "stream",
          "text": [
            "Epoch 1/16\n",
            "60000/60000 [==============================] - 10s 175us/sample - loss: 0.2110 - accuracy: 0.9362\n",
            "Epoch 2/16\n",
            "60000/60000 [==============================] - 10s 158us/sample - loss: 0.1060 - accuracy: 0.9676\n",
            "Epoch 3/16\n",
            "60000/60000 [==============================] - 10s 159us/sample - loss: 0.0800 - accuracy: 0.9750\n",
            "Epoch 4/16\n",
            "60000/60000 [==============================] - 10s 159us/sample - loss: 0.0663 - accuracy: 0.9792\n",
            "Epoch 5/16\n",
            "60000/60000 [==============================] - 10s 159us/sample - loss: 0.0571 - accuracy: 0.9822\n",
            "Epoch 6/16\n",
            "60000/60000 [==============================] - 10s 159us/sample - loss: 0.0517 - accuracy: 0.9844\n",
            "Epoch 7/16\n",
            "60000/60000 [==============================] - 10s 159us/sample - loss: 0.0488 - accuracy: 0.9848\n",
            "Epoch 8/16\n",
            "60000/60000 [==============================] - 10s 166us/sample - loss: 0.0376 - accuracy: 0.9883\n",
            "Epoch 9/16\n",
            "60000/60000 [==============================] - 9s 158us/sample - loss: 0.0421 - accuracy: 0.9873\n",
            "Epoch 10/16\n",
            "60000/60000 [==============================] - 10s 159us/sample - loss: 0.0367 - accuracy: 0.9882\n",
            "Epoch 11/16\n",
            "60000/60000 [==============================] - 10s 158us/sample - loss: 0.0365 - accuracy: 0.9891\n",
            "Epoch 12/16\n",
            "60000/60000 [==============================] - 9s 158us/sample - loss: 0.0342 - accuracy: 0.9896\n",
            "Epoch 13/16\n",
            "60000/60000 [==============================] - 9s 157us/sample - loss: 0.0323 - accuracy: 0.9905\n",
            "Epoch 14/16\n",
            "60000/60000 [==============================] - 9s 156us/sample - loss: 0.0319 - accuracy: 0.9910\n",
            "Epoch 15/16\n",
            "60000/60000 [==============================] - 9s 157us/sample - loss: 0.0323 - accuracy: 0.9908\n",
            "Epoch 16/16\n",
            "60000/60000 [==============================] - 9s 158us/sample - loss: 0.0315 - accuracy: 0.9910\n"
          ],
          "name": "stdout"
        },
        {
          "output_type": "execute_result",
          "data": {
            "text/plain": [
              "<tensorflow.python.keras.callbacks.History at 0x7f68e9746278>"
            ]
          },
          "metadata": {
            "tags": []
          },
          "execution_count": 18
        }
      ]
    },
    {
      "cell_type": "code",
      "metadata": {
        "id": "1aLiWfgFWB2k",
        "colab_type": "code",
        "outputId": "1c94974c-d24d-41f5-fe7f-2fc01d7af818",
        "colab": {
          "base_uri": "https://localhost:8080/",
          "height": 635
        }
      },
      "source": [
        "model.fit(images_train, labels_train,validation_data=(images_test,labels_test), epochs=16)"
      ],
      "execution_count": 0,
      "outputs": [
        {
          "output_type": "stream",
          "text": [
            "Train on 60000 samples, validate on 10000 samples\n",
            "Epoch 1/16\n",
            "60000/60000 [==============================] - 11s 178us/sample - loss: 0.0304 - accuracy: 0.9916 - val_loss: 0.0872 - val_accuracy: 0.9826\n",
            "Epoch 2/16\n",
            "60000/60000 [==============================] - 11s 177us/sample - loss: 0.0258 - accuracy: 0.9930 - val_loss: 0.0972 - val_accuracy: 0.9824\n",
            "Epoch 3/16\n",
            "60000/60000 [==============================] - 10s 173us/sample - loss: 0.0280 - accuracy: 0.9923 - val_loss: 0.0934 - val_accuracy: 0.9827\n",
            "Epoch 4/16\n",
            "60000/60000 [==============================] - 10s 174us/sample - loss: 0.0260 - accuracy: 0.9931 - val_loss: 0.0970 - val_accuracy: 0.9839\n",
            "Epoch 5/16\n",
            "60000/60000 [==============================] - 10s 172us/sample - loss: 0.0292 - accuracy: 0.9928 - val_loss: 0.0934 - val_accuracy: 0.9835\n",
            "Epoch 6/16\n",
            "60000/60000 [==============================] - 10s 172us/sample - loss: 0.0251 - accuracy: 0.9932 - val_loss: 0.1007 - val_accuracy: 0.9840\n",
            "Epoch 7/16\n",
            "60000/60000 [==============================] - 10s 173us/sample - loss: 0.0243 - accuracy: 0.9931 - val_loss: 0.1116 - val_accuracy: 0.9813\n",
            "Epoch 8/16\n",
            "60000/60000 [==============================] - 11s 178us/sample - loss: 0.0243 - accuracy: 0.9934 - val_loss: 0.1280 - val_accuracy: 0.9802\n",
            "Epoch 9/16\n",
            "60000/60000 [==============================] - 11s 178us/sample - loss: 0.0261 - accuracy: 0.9935 - val_loss: 0.1138 - val_accuracy: 0.9835\n",
            "Epoch 10/16\n",
            "60000/60000 [==============================] - 10s 175us/sample - loss: 0.0239 - accuracy: 0.9940 - val_loss: 0.1272 - val_accuracy: 0.9821\n",
            "Epoch 11/16\n",
            "60000/60000 [==============================] - 10s 172us/sample - loss: 0.0284 - accuracy: 0.9936 - val_loss: 0.1198 - val_accuracy: 0.9798\n",
            "Epoch 12/16\n",
            "60000/60000 [==============================] - 10s 172us/sample - loss: 0.0251 - accuracy: 0.9938 - val_loss: 0.1104 - val_accuracy: 0.9845\n",
            "Epoch 13/16\n",
            "60000/60000 [==============================] - 10s 173us/sample - loss: 0.0208 - accuracy: 0.9948 - val_loss: 0.1259 - val_accuracy: 0.9842\n",
            "Epoch 14/16\n",
            "60000/60000 [==============================] - 10s 174us/sample - loss: 0.0260 - accuracy: 0.9941 - val_loss: 0.1245 - val_accuracy: 0.9824\n",
            "Epoch 15/16\n",
            "60000/60000 [==============================] - 10s 175us/sample - loss: 0.0262 - accuracy: 0.9940 - val_loss: 0.1186 - val_accuracy: 0.9843\n",
            "Epoch 16/16\n",
            "60000/60000 [==============================] - 10s 172us/sample - loss: 0.0279 - accuracy: 0.9939 - val_loss: 0.1223 - val_accuracy: 0.9820\n"
          ],
          "name": "stdout"
        },
        {
          "output_type": "execute_result",
          "data": {
            "text/plain": [
              "<tensorflow.python.keras.callbacks.History at 0x7f68cdf1f978>"
            ]
          },
          "metadata": {
            "tags": []
          },
          "execution_count": 20
        }
      ]
    },
    {
      "cell_type": "code",
      "metadata": {
        "id": "s8vZUuoJVSO2",
        "colab_type": "code",
        "outputId": "3a4d52b9-c614-41fb-8d73-9c611a133675",
        "colab": {
          "base_uri": "https://localhost:8080/",
          "height": 54
        }
      },
      "source": [
        "test_loss, test_acc = model.evaluate(images_test, labels_test)\n",
        "print('Test accuracy:', test_acc)"
      ],
      "execution_count": 0,
      "outputs": [
        {
          "output_type": "stream",
          "text": [
            "10000/10000 [==============================] - 1s 85us/sample - loss: 0.1223 - accuracy: 0.9820\n",
            "Test accuracy: 0.982\n"
          ],
          "name": "stdout"
        }
      ]
    },
    {
      "cell_type": "code",
      "metadata": {
        "id": "bnnTQXvzXGYM",
        "colab_type": "code",
        "colab": {}
      },
      "source": [
        "example_img = images_test[0]"
      ],
      "execution_count": 0,
      "outputs": []
    },
    {
      "cell_type": "code",
      "metadata": {
        "id": "MjfKUovqXsN8",
        "colab_type": "code",
        "outputId": "570116eb-8a47-47d8-e18e-1eba2049efa3",
        "colab": {
          "base_uri": "https://localhost:8080/",
          "height": 274
        }
      },
      "source": [
        "plt.grid(False)\n",
        "plt.xticks([])\n",
        "plt.yticks([])\n",
        "plt.imshow(example_img, cmap=plt.cm.binary)"
      ],
      "execution_count": 0,
      "outputs": [
        {
          "output_type": "execute_result",
          "data": {
            "text/plain": [
              "<matplotlib.image.AxesImage at 0x7f68c19a4b70>"
            ]
          },
          "metadata": {
            "tags": []
          },
          "execution_count": 23
        },
        {
          "output_type": "display_data",
          "data": {
            "image/png": "[encoded data removed]",
            "text/plain": [
              "<Figure size 432x288 with 1 Axes>"
            ]
          },
          "metadata": {
            "tags": []
          }
        }
      ]
    },
    {
      "cell_type": "code",
      "metadata": {
        "id": "MbaB0o5vYBR9",
        "colab_type": "code",
        "outputId": "6d921328-0d4c-4973-d4ca-5be7fb698bb7",
        "colab": {
          "base_uri": "https://localhost:8080/",
          "height": 35
        }
      },
      "source": [
        "example_img.shape"
      ],
      "execution_count": 0,
      "outputs": [
        {
          "output_type": "execute_result",
          "data": {
            "text/plain": [
              "(28, 28)"
            ]
          },
          "metadata": {
            "tags": []
          },
          "execution_count": 25
        }
      ]
    },
    {
      "cell_type": "code",
      "metadata": {
        "id": "RhEyY6TTXwCJ",
        "colab_type": "code",
        "outputId": "ff41f941-f58a-420f-f03b-6ff5e546b6b6",
        "colab": {
          "base_uri": "https://localhost:8080/",
          "height": 90
        }
      },
      "source": [
        "example_img_as_input = (np.expand_dims(example_img,0))\n",
        "print(\"Image data shape:\", example_img_as_input.shape)\n",
        "\n",
        "img_prediction = model.predict(example_img_as_input)\n",
        "print(\"Prediction results:\", img_prediction)\n",
        "print(\"Predicted value:\", np.argmax(img_prediction))"
      ],
      "execution_count": 0,
      "outputs": [
        {
          "output_type": "stream",
          "text": [
            "Image data shape: (1, 28, 28)\n",
            "Prediction results: [[6.1987276e-22 1.0758659e-17 2.2168702e-14 1.4878951e-12 3.1827694e-16\n",
            "  3.2629074e-18 5.9229971e-29 9.9999917e-01 7.7859252e-15 8.4192936e-07]]\n",
            "Predicted value: 7\n"
          ],
          "name": "stdout"
        }
      ]
    },
    {
      "cell_type": "code",
      "metadata": {
        "id": "XNLYQnUfX1UZ",
        "colab_type": "code",
        "outputId": "aa4dffc9-67d5-4cd3-a368-d91216200cd7",
        "colab": {
          "base_uri": "https://localhost:8080/",
          "height": 35
        }
      },
      "source": [
        "aa=[0,1,2,3,4,5,6,7,8,9]\n",
        "print(np.argmax(aa))"
      ],
      "execution_count": 0,
      "outputs": [
        {
          "output_type": "stream",
          "text": [
            "9\n"
          ],
          "name": "stdout"
        }
      ]
    },
    {
      "cell_type": "code",
      "metadata": {
        "id": "1a2-kaYiYrbK",
        "colab_type": "code",
        "outputId": "a73155c4-96d1-4214-da28-09ff3fb69b97",
        "colab": {
          "base_uri": "https://localhost:8080/",
          "height": 35
        }
      },
      "source": [
        "class_names = [\"zero\",\"one\",\"two\",\"three\",\"four\",\"five\",\"six\",\"yedi\",\"eight\",\"nine\"]\n",
        "print(class_names[np.argmax(img_prediction)])"
      ],
      "execution_count": 0,
      "outputs": [
        {
          "output_type": "stream",
          "text": [
            "yedi\n"
          ],
          "name": "stdout"
        }
      ]
    },
    {
      "cell_type": "code",
      "metadata": {
        "id": "lkPqO_GiZlMw",
        "colab_type": "code",
        "colab": {}
      },
      "source": [
        "# Helper functions\n",
        "\n",
        "import matplotlib.pyplot as plt\n",
        "import numpy as np\n",
        "\n",
        "\n",
        "def plot_image(i, predictions_array, true_label, img, class_names):\n",
        "    predictions_array, true_label, img = predictions_array[i], true_label[i], img[i]\n",
        "    plt.grid(False)\n",
        "    plt.xticks([])\n",
        "    plt.yticks([])\n",
        "\n",
        "    plt.imshow(img, cmap=plt.cm.binary)\n",
        "\n",
        "    predicted_label = np.argmax(predictions_array)\n",
        "    if predicted_label == true_label:\n",
        "        color = 'blue'\n",
        "    else:\n",
        "        color = 'red'\n",
        "\n",
        "    plt.xlabel(\"{} {:2.0f}% ({})\".format(class_names[predicted_label],\n",
        "                                         100 * np.max(predictions_array),\n",
        "                                         class_names[true_label]),\n",
        "               color=color)\n",
        "\n",
        "\n",
        "def plot_value_array(i, predictions_array, true_label):\n",
        "    predictions_array, true_label = predictions_array[i], true_label[i]\n",
        "    plt.grid(False)\n",
        "    plt.xticks([])\n",
        "    plt.yticks([])\n",
        "    thisplot = plt.bar(range(10), predictions_array, color=\"#777777\")\n",
        "    plt.ylim([0, 1])\n",
        "    predicted_label = np.argmax(predictions_array)\n",
        "\n",
        "    thisplot[predicted_label].set_color('red')\n",
        "    thisplot[true_label].set_color('blue')"
      ],
      "execution_count": 0,
      "outputs": []
    },
    {
      "cell_type": "code",
      "metadata": {
        "id": "6kdtKm2zaqDD",
        "colab_type": "code",
        "outputId": "fbce4beb-03ec-4c24-bdf7-a2c40dbf79c2",
        "colab": {
          "base_uri": "https://localhost:8080/",
          "height": 593
        }
      },
      "source": [
        "predictions = model.predict(images_test)\n",
        "\n",
        "num_rows = 5\n",
        "num_cols = 3\n",
        "num_images = num_rows*num_cols\n",
        "plt.figure(figsize=(2  *2*num_cols, 2*num_rows))\n",
        "for i in range(num_images):\n",
        "  plt.subplot(num_rows, 2*num_cols, 2*i+1)\n",
        "  plot_image(i, predictions, labels_test, images_test, class_names)\n",
        "  plt.subplot(num_rows, 2*num_cols, 2*i+2)\n",
        "  plot_value_array(i, predictions, labels_test)"
      ],
      "execution_count": 0,
      "outputs": [
        {
          "output_type": "display_data",
          "data": {
            "image/png": "[encoded data removed]",
            "text/plain": [
              "<Figure size 864x720 with 30 Axes>"
            ]
          },
          "metadata": {
            "tags": []
          }
        }
      ]
    },
    {
      "cell_type": "code",
      "metadata": {
        "id": "CJOtaNc6atWr",
        "colab_type": "code",
        "outputId": "822db63b-3f66-4a88-8196-7d72a228c2f6",
        "colab": {
          "base_uri": "https://localhost:8080/",
          "height": 435
        }
      },
      "source": [
        "model.summary()\n",
        "loss, acc = model.evaluate(images_test, labels_test)\n",
        "print(\"Restored model, accuracy: {:5.2f}%\".format(100*acc))\n",
        "print(\"Restored model, loss: {}\".format(loss))"
      ],
      "execution_count": 0,
      "outputs": [
        {
          "output_type": "stream",
          "text": [
            "Model: \"sequential\"\n",
            "_________________________________________________________________\n",
            "Layer (type)                 Output Shape              Param #   \n",
            "=================================================================\n",
            "flatten (Flatten)            (None, 784)               0         \n",
            "_________________________________________________________________\n",
            "dense (Dense)                (None, 512)               401920    \n",
            "_________________________________________________________________\n",
            "dropout (Dropout)            (None, 512)               0         \n",
            "_________________________________________________________________\n",
            "dense_1 (Dense)              (None, 512)               262656    \n",
            "_________________________________________________________________\n",
            "dropout_1 (Dropout)          (None, 512)               0         \n",
            "_________________________________________________________________\n",
            "dense_2 (Dense)              (None, 10)                5130      \n",
            "=================================================================\n",
            "Total params: 669,706\n",
            "Trainable params: 669,706\n",
            "Non-trainable params: 0\n",
            "_________________________________________________________________\n",
            "10000/10000 [==============================] - 1s 81us/sample - loss: 0.1223 - accuracy: 0.9820\n",
            "Restored model, accuracy: 98.20%\n",
            "Restored model, loss: 0.12228678564871631\n"
          ],
          "name": "stdout"
        }
      ]
    },
    {
      "cell_type": "code",
      "metadata": {
        "id": "anTsZ6gvb3JY",
        "colab_type": "code",
        "colab": {}
      },
      "source": [
        "keras_mnist_model = 'mnist_model.h5'"
      ],
      "execution_count": 0,
      "outputs": []
    },
    {
      "cell_type": "code",
      "metadata": {
        "id": "oJxaLTTCb-iH",
        "colab_type": "code",
        "outputId": "c53a8663-e4bd-4ecb-8eab-9ec69a4520e9",
        "colab": {
          "base_uri": "https://localhost:8080/",
          "height": 146
        }
      },
      "source": [
        "keras.experimental.export_saved_model(model, keras_mnist_model)"
      ],
      "execution_count": 0,
      "outputs": [
        {
          "output_type": "stream",
          "text": [
            "WARNING: Logging before flag parsing goes to stderr.\n",
            "W0729 06:34:35.619319 140090517772160 deprecation.py:323] From /usr/local/lib/python3.6/dist-packages/tensorflow/python/saved_model/signature_def_utils_impl.py:253: build_tensor_info (from tensorflow.python.saved_model.utils_impl) is deprecated and will be removed in a future version.\n",
            "Instructions for updating:\n",
            "This function will only be available through the v1 compatibility library as tf.compat.v1.saved_model.utils.build_tensor_info or tf.compat.v1.saved_model.build_tensor_info.\n",
            "W0729 06:34:35.622073 140090517772160 tf_logging.py:161] Export includes no default signature!\n",
            "W0729 06:34:36.423524 140090517772160 tf_logging.py:161] Export includes no default signature!\n"
          ],
          "name": "stderr"
        }
      ]
    },
    {
      "cell_type": "code",
      "metadata": {
        "id": "3xHj5_gDcBUD",
        "colab_type": "code",
        "outputId": "5079d30d-acae-491c-989b-744bfa14b107",
        "colab": {
          "base_uri": "https://localhost:8080/",
          "height": 35
        }
      },
      "source": [
        "!ls"
      ],
      "execution_count": 0,
      "outputs": [
        {
          "output_type": "stream",
          "text": [
            "mnist_model.h5\tsample_data\n"
          ],
          "name": "stdout"
        }
      ]
    },
    {
      "cell_type": "code",
      "metadata": {
        "id": "Gw_cy5_4cCs8",
        "colab_type": "code",
        "outputId": "f98de722-dc5f-4abf-a369-10a26a8aac8b",
        "colab": {
          "base_uri": "https://localhost:8080/",
          "height": 419
        }
      },
      "source": [
        "new_model = keras.experimental.load_from_saved_model(keras_mnist_model)\n",
        "print(new_model.get_config())\n",
        "\n",
        "#Get input shape from model.get_config()\n",
        "new_model.build((None, 28, 28, 1))\n",
        "new_model.summary()"
      ],
      "execution_count": 0,
      "outputs": [
        {
          "output_type": "stream",
          "text": [
            "{'name': 'sequential', 'layers': [{'class_name': 'Flatten', 'config': {'name': 'flatten', 'trainable': True, 'batch_input_shape': (None, 28, 28), 'dtype': 'float32', 'data_format': 'channels_last'}}, {'class_name': 'Dense', 'config': {'name': 'dense', 'trainable': True, 'dtype': 'float32', 'units': 512, 'activation': 'relu', 'use_bias': True, 'kernel_initializer': {'class_name': 'GlorotUniform', 'config': {'seed': None}}, 'bias_initializer': {'class_name': 'Zeros', 'config': {}}, 'kernel_regularizer': None, 'bias_regularizer': None, 'activity_regularizer': None, 'kernel_constraint': None, 'bias_constraint': None}}, {'class_name': 'Dropout', 'config': {'name': 'dropout', 'trainable': True, 'dtype': 'float32', 'rate': 0.2, 'noise_shape': None, 'seed': None}}, {'class_name': 'Dense', 'config': {'name': 'dense_1', 'trainable': True, 'dtype': 'float32', 'units': 512, 'activation': 'relu', 'use_bias': True, 'kernel_initializer': {'class_name': 'GlorotUniform', 'config': {'seed': None}}, 'bias_initializer': {'class_name': 'Zeros', 'config': {}}, 'kernel_regularizer': None, 'bias_regularizer': None, 'activity_regularizer': None, 'kernel_constraint': None, 'bias_constraint': None}}, {'class_name': 'Dropout', 'config': {'name': 'dropout_1', 'trainable': True, 'dtype': 'float32', 'rate': 0.2, 'noise_shape': None, 'seed': None}}, {'class_name': 'Dense', 'config': {'name': 'dense_2', 'trainable': True, 'dtype': 'float32', 'units': 10, 'activation': 'softmax', 'use_bias': True, 'kernel_initializer': {'class_name': 'GlorotUniform', 'config': {'seed': None}}, 'bias_initializer': {'class_name': 'Zeros', 'config': {}}, 'kernel_regularizer': None, 'bias_regularizer': None, 'activity_regularizer': None, 'kernel_constraint': None, 'bias_constraint': None}}]}\n",
            "Model: \"sequential\"\n",
            "_________________________________________________________________\n",
            "Layer (type)                 Output Shape              Param #   \n",
            "=================================================================\n",
            "flatten (Flatten)            (None, 784)               0         \n",
            "_________________________________________________________________\n",
            "dense (Dense)                (None, 512)               401920    \n",
            "_________________________________________________________________\n",
            "dropout (Dropout)            (None, 512)               0         \n",
            "_________________________________________________________________\n",
            "dense_1 (Dense)              (None, 512)               262656    \n",
            "_________________________________________________________________\n",
            "dropout_1 (Dropout)          (None, 512)               0         \n",
            "_________________________________________________________________\n",
            "dense_2 (Dense)              (None, 10)                5130      \n",
            "=================================================================\n",
            "Total params: 669,706\n",
            "Trainable params: 669,706\n",
            "Non-trainable params: 0\n",
            "_________________________________________________________________\n"
          ],
          "name": "stdout"
        }
      ]
    },
    {
      "cell_type": "code",
      "metadata": {
        "id": "-TLmgr8mcL1J",
        "colab_type": "code",
        "colab": {}
      },
      "source": [
        "# The model has to be compiled before the evaluation\n",
        "new_model.compile(optimizer='adam',\n",
        "              loss='sparse_categorical_crossentropy',\n",
        "              metrics=['accuracy'])"
      ],
      "execution_count": 0,
      "outputs": []
    },
    {
      "cell_type": "code",
      "metadata": {
        "id": "B1H-T8Ddckn3",
        "colab_type": "code",
        "outputId": "33aebea1-aeff-49fe-b514-54a6d4bdb90b",
        "colab": {
          "base_uri": "https://localhost:8080/",
          "height": 72
        }
      },
      "source": [
        "\n",
        "loss, acc = new_model.evaluate(images_test, labels_test)\n",
        "print(\"Restored model, accuracy: {:5.2f}%\".format(100*acc))\n",
        "print(\"Restored model, loss: {}\".format(loss))"
      ],
      "execution_count": 0,
      "outputs": [
        {
          "output_type": "stream",
          "text": [
            "10000/10000 [==============================] - 1s 96us/sample - loss: 0.1223 - accuracy: 0.9820\n",
            "Restored model, accuracy: 98.20%\n",
            "Restored model, loss: 0.12228678564871631\n"
          ],
          "name": "stdout"
        }
      ]
    },
    {
      "cell_type": "code",
      "metadata": {
        "id": "9yKYxPwLcog3",
        "colab_type": "code",
        "outputId": "c8c4fef1-ffd7-4d52-9062-fcce00636266",
        "colab": {
          "base_uri": "https://localhost:8080/",
          "height": 35
        }
      },
      "source": [
        "tflite_mnist_model = \"mnist_model.tflite\"\n",
        "\n",
        "# Get the concrete function from the Keras model.\n",
        "run_model = tf.function(lambda x : new_model(x))\n",
        "\n",
        "# Save the concrete function.\n",
        "concrete_func = run_model.get_concrete_function(\n",
        "    tf.TensorSpec(new_model.inputs[0].shape, new_model.inputs[0].dtype)\n",
        ")\n",
        "\n",
        "# Convert the model.\n",
        "converter = tf.lite.TFLiteConverter.from_concrete_function(concrete_func)\n",
        "tflite_model = converter.convert()\n",
        "open(tflite_mnist_model, \"wb\").write(tflite_model)"
      ],
      "execution_count": 0,
      "outputs": [
        {
          "output_type": "execute_result",
          "data": {
            "text/plain": [
              "5359976"
            ]
          },
          "metadata": {
            "tags": []
          },
          "execution_count": 40
        }
      ]
    },
    {
      "cell_type": "code",
      "metadata": {
        "id": "q82Rbbbwdruc",
        "colab_type": "code",
        "outputId": "66ee49fe-61d5-42df-da02-64729537c552",
        "colab": {
          "base_uri": "https://localhost:8080/",
          "height": 35
        }
      },
      "source": [
        "!ls"
      ],
      "execution_count": 0,
      "outputs": [
        {
          "output_type": "stream",
          "text": [
            "mnist_model.h5\tmnist_model.tflite  sample_data\n"
          ],
          "name": "stdout"
        }
      ]
    },
    {
      "cell_type": "code",
      "metadata": {
        "id": "VSjAFo1Wdtbq",
        "colab_type": "code",
        "outputId": "79ba14e0-da56-4659-a8aa-f9cd0f4c24a0",
        "colab": {
          "base_uri": "https://localhost:8080/",
          "height": 290
        }
      },
      "source": [
        "interpreter = tf.lite.Interpreter(model_path=tflite_mnist_model)\n",
        "interpreter.allocate_tensors()\n",
        "\n",
        "print(\"== Input details ==\")\n",
        "print(\"name:\", interpreter.get_input_details()[0]['name'])\n",
        "print(\"shape:\", interpreter.get_input_details()[0]['shape'])\n",
        "print(\"type:\", interpreter.get_input_details()[0]['dtype'])\n",
        "\n",
        "print(\"\\n== Output details ==\")\n",
        "print(\"name:\", interpreter.get_output_details()[0]['name'])\n",
        "print(\"shape:\", interpreter.get_output_details()[0]['shape'])\n",
        "print(\"type:\", interpreter.get_output_details()[0]['dtype'])\n",
        "\n",
        "print(\"\\nDUMP INPUT\")\n",
        "print(interpreter.get_input_details()[0])\n",
        "print(\"\\nDUMP OUTPUT\")\n",
        "print(interpreter.get_output_details()[0])"
      ],
      "execution_count": 0,
      "outputs": [
        {
          "output_type": "stream",
          "text": [
            "== Input details ==\n",
            "name: x\n",
            "shape: [ 1 28 28]\n",
            "type: <class 'numpy.float32'>\n",
            "\n",
            "== Output details ==\n",
            "name: Identity\n",
            "shape: [ 1 10]\n",
            "type: <class 'numpy.float32'>\n",
            "\n",
            "DUMP INPUT\n",
            "{'name': 'x', 'index': 16, 'shape': array([ 1, 28, 28], dtype=int32), 'dtype': <class 'numpy.float32'>, 'quantization': (0.0, 0)}\n",
            "\n",
            "DUMP OUTPUT\n",
            "{'name': 'Identity', 'index': 0, 'shape': array([ 1, 10], dtype=int32), 'dtype': <class 'numpy.float32'>, 'quantization': (0.0, 0)}\n"
          ],
          "name": "stdout"
        }
      ]
    },
    {
      "cell_type": "code",
      "metadata": {
        "id": "INDxuHxod-Lo",
        "colab_type": "code",
        "outputId": "7e943062-8d7d-468e-ad76-129e431f50e8",
        "colab": {
          "base_uri": "https://localhost:8080/",
          "height": 274
        }
      },
      "source": [
        "example_img_for_tflite = images_test[10]\n",
        "\n",
        "plt.grid(False)\n",
        "plt.xticks([])\n",
        "plt.yticks([])\n",
        "plt.imshow(example_img_for_tflite, cmap=plt.cm.binary)"
      ],
      "execution_count": 0,
      "outputs": [
        {
          "output_type": "execute_result",
          "data": {
            "text/plain": [
              "<matplotlib.image.AxesImage at 0x7f68bf769d30>"
            ]
          },
          "metadata": {
            "tags": []
          },
          "execution_count": 43
        },
        {
          "output_type": "display_data",
          "data": {
            "image/png": "[encoded data removed]",
            "text/plain": [
              "<Figure size 432x288 with 1 Axes>"
            ]
          },
          "metadata": {
            "tags": []
          }
        }
      ]
    },
    {
      "cell_type": "code",
      "metadata": {
        "id": "lyrOAF4Uebhq",
        "colab_type": "code",
        "outputId": "2350695a-2981-4f77-ff8a-f9fc9184d414",
        "colab": {
          "base_uri": "https://localhost:8080/",
          "height": 145
        }
      },
      "source": [
        "example_img_for_tflite = np.expand_dims(example_img_for_tflite,0).astype(np.float32)\n",
        "print(\"Input data shape:\", example_img_for_tflite.shape)\n",
        "print(\"Input data type:\", example_img_for_tflite.dtype)\n",
        "\n",
        "input_details = interpreter.get_input_details()\n",
        "interpreter.set_tensor(input_details[0]['index'], example_img_for_tflite)\n",
        "\n",
        "interpreter.invoke()\n",
        "\n",
        "output_details = interpreter.get_output_details()\n",
        "output_data = interpreter.get_tensor(output_details[0]['index'])\n",
        "print(\"\\n\\nPrediction results:\", output_data)\n",
        "print(\"Predicted value:\", np.argmax(output_data))"
      ],
      "execution_count": 0,
      "outputs": [
        {
          "output_type": "stream",
          "text": [
            "Input data shape: (1, 28, 28)\n",
            "Input data type: float32\n",
            "\n",
            "\n",
            "Prediction results: [[1.0000000e+00 0.0000000e+00 2.2970855e-39 0.0000000e+00 2.0739217e-43\n",
            "  3.3631163e-44 4.3347176e-36 3.5781175e-40 4.2038954e-45 3.4401877e-32]]\n",
            "Predicted value: 0\n"
          ],
          "name": "stdout"
        }
      ]
    },
    {
      "cell_type": "code",
      "metadata": {
        "id": "cTxG79XdeeZG",
        "colab_type": "code",
        "outputId": "daf13681-9c7d-423b-b745-7749a6c810aa",
        "colab": {
          "base_uri": "https://localhost:8080/",
          "height": 310
        }
      },
      "source": [
        "from PIL import Image\n",
        "import PIL.ImageOps  \n",
        "import requests\n",
        "\n",
        "imgUrl = \"https://raw.githubusercontent.com/frogermcs/MNIST-TFLite/master/notebooks/test.png\"\n",
        "img = Image.open(requests.get(imgUrl, stream=True).raw).convert('L')\n",
        "img.load()\n",
        "img = PIL.ImageOps.invert(img)\n",
        "data = np.asarray( img, dtype=\"int32\" )\n",
        "\n",
        "plt.grid(False)\n",
        "plt.xticks([])\n",
        "plt.yticks([])\n",
        "plt.imshow(data, cmap=plt.cm.binary)\n",
        "\n",
        "data = data / 255.0\n",
        "inputImg = np.expand_dims(data,0).astype(np.float32)\n",
        "inputImg.shape\n",
        "\n",
        "input_details = interpreter.get_input_details()\n",
        "interpreter.set_tensor(input_details[0]['index'], inputImg)\n",
        "\n",
        "interpreter.invoke()\n",
        "\n",
        "output_details = interpreter.get_output_details()\n",
        "output_data = interpreter.get_tensor(output_details[0]['index'])\n",
        "print(\"Prediction results:\", output_data)\n",
        "print(\"Predicted value:\", np.argmax(output_data))"
      ],
      "execution_count": 0,
      "outputs": [
        {
          "output_type": "stream",
          "text": [
            "Prediction results: [[1.0000000e+00 0.0000000e+00 1.1069079e-37 5.0214830e-40 2.0937760e-35\n",
            "  3.3713773e-21 2.5499799e-36 5.9045878e-16 3.1450084e-38 1.5407789e-32]]\n",
            "Predicted value: 0\n"
          ],
          "name": "stdout"
        },
        {
          "output_type": "display_data",
          "data": {
            "image/png": "[encoded data removed]",
            "text/plain": [
              "<Figure size 432x288 with 1 Axes>"
            ]
          },
          "metadata": {
            "tags": []
          }
        }
      ]
    },
    {
      "cell_type": "code",
      "metadata": {
        "id": "HryjfwSlel6u",
        "colab_type": "code",
        "colab": {}
      },
      "source": [
        ""
      ],
      "execution_count": 0,
      "outputs": []
    }
  ]
}